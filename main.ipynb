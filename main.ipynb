{
 "cells": [
  {
   "cell_type": "code",
   "execution_count": 5,
   "metadata": {},
   "outputs": [],
   "source": [
    "%load_ext autoreload\n",
    "%autoreload 2"
   ]
  },
  {
   "cell_type": "code",
   "execution_count": 1,
   "metadata": {},
   "outputs": [
    {
     "name": "stdout",
     "output_type": "stream",
     "text": [
      "Requirement already satisfied: pandas==2.2.3 in c:\\users\\dara\\documents\\github\\drug-interaction-prediction-for-older-adults\\venv\\lib\\site-packages (from -r requirements.txt (line 1)) (2.2.3)\n",
      "Requirement already satisfied: openpyxl==3.1.5 in c:\\users\\dara\\documents\\github\\drug-interaction-prediction-for-older-adults\\venv\\lib\\site-packages (from -r requirements.txt (line 2)) (3.1.5)\n",
      "Requirement already satisfied: sklearn==0.0 in c:\\users\\dara\\documents\\github\\drug-interaction-prediction-for-older-adults\\venv\\lib\\site-packages (from -r requirements.txt (line 3)) (0.0)\n",
      "Requirement already satisfied: torch==2.6.0 in c:\\users\\dara\\documents\\github\\drug-interaction-prediction-for-older-adults\\venv\\lib\\site-packages (from -r requirements.txt (line 4)) (2.6.0)\n",
      "Requirement already satisfied: ipywidgets==8.1.5 in c:\\users\\dara\\documents\\github\\drug-interaction-prediction-for-older-adults\\venv\\lib\\site-packages (from -r requirements.txt (line 5)) (8.1.5)\n",
      "Requirement already satisfied: numpy>=1.26.0 in c:\\users\\dara\\documents\\github\\drug-interaction-prediction-for-older-adults\\venv\\lib\\site-packages (from pandas==2.2.3->-r requirements.txt (line 1)) (2.2.4)\n",
      "Requirement already satisfied: python-dateutil>=2.8.2 in c:\\users\\dara\\documents\\github\\drug-interaction-prediction-for-older-adults\\venv\\lib\\site-packages (from pandas==2.2.3->-r requirements.txt (line 1)) (2.9.0.post0)\n",
      "Requirement already satisfied: pytz>=2020.1 in c:\\users\\dara\\documents\\github\\drug-interaction-prediction-for-older-adults\\venv\\lib\\site-packages (from pandas==2.2.3->-r requirements.txt (line 1)) (2025.2)\n",
      "Requirement already satisfied: tzdata>=2022.7 in c:\\users\\dara\\documents\\github\\drug-interaction-prediction-for-older-adults\\venv\\lib\\site-packages (from pandas==2.2.3->-r requirements.txt (line 1)) (2025.2)\n",
      "Requirement already satisfied: et-xmlfile in c:\\users\\dara\\documents\\github\\drug-interaction-prediction-for-older-adults\\venv\\lib\\site-packages (from openpyxl==3.1.5->-r requirements.txt (line 2)) (2.0.0)\n",
      "Requirement already satisfied: filelock in c:\\users\\dara\\documents\\github\\drug-interaction-prediction-for-older-adults\\venv\\lib\\site-packages (from torch==2.6.0->-r requirements.txt (line 4)) (3.18.0)\n",
      "Requirement already satisfied: typing-extensions>=4.10.0 in c:\\users\\dara\\documents\\github\\drug-interaction-prediction-for-older-adults\\venv\\lib\\site-packages (from torch==2.6.0->-r requirements.txt (line 4)) (4.13.1)\n",
      "Requirement already satisfied: networkx in c:\\users\\dara\\documents\\github\\drug-interaction-prediction-for-older-adults\\venv\\lib\\site-packages (from torch==2.6.0->-r requirements.txt (line 4)) (3.4.2)\n",
      "Requirement already satisfied: jinja2 in c:\\users\\dara\\documents\\github\\drug-interaction-prediction-for-older-adults\\venv\\lib\\site-packages (from torch==2.6.0->-r requirements.txt (line 4)) (3.1.6)\n",
      "Requirement already satisfied: fsspec in c:\\users\\dara\\documents\\github\\drug-interaction-prediction-for-older-adults\\venv\\lib\\site-packages (from torch==2.6.0->-r requirements.txt (line 4)) (2025.3.2)\n",
      "Requirement already satisfied: setuptools in c:\\users\\dara\\documents\\github\\drug-interaction-prediction-for-older-adults\\venv\\lib\\site-packages (from torch==2.6.0->-r requirements.txt (line 4)) (78.1.0)\n",
      "Requirement already satisfied: sympy==1.13.1 in c:\\users\\dara\\documents\\github\\drug-interaction-prediction-for-older-adults\\venv\\lib\\site-packages (from torch==2.6.0->-r requirements.txt (line 4)) (1.13.1)\n",
      "Requirement already satisfied: comm>=0.1.3 in c:\\users\\dara\\documents\\github\\drug-interaction-prediction-for-older-adults\\venv\\lib\\site-packages (from ipywidgets==8.1.5->-r requirements.txt (line 5)) (0.2.2)\n",
      "Requirement already satisfied: ipython>=6.1.0 in c:\\users\\dara\\documents\\github\\drug-interaction-prediction-for-older-adults\\venv\\lib\\site-packages (from ipywidgets==8.1.5->-r requirements.txt (line 5)) (9.0.2)\n",
      "Requirement already satisfied: traitlets>=4.3.1 in c:\\users\\dara\\documents\\github\\drug-interaction-prediction-for-older-adults\\venv\\lib\\site-packages (from ipywidgets==8.1.5->-r requirements.txt (line 5)) (5.14.3)\n",
      "Requirement already satisfied: widgetsnbextension~=4.0.12 in c:\\users\\dara\\documents\\github\\drug-interaction-prediction-for-older-adults\\venv\\lib\\site-packages (from ipywidgets==8.1.5->-r requirements.txt (line 5)) (4.0.13)\n",
      "Requirement already satisfied: jupyterlab-widgets~=3.0.12 in c:\\users\\dara\\documents\\github\\drug-interaction-prediction-for-older-adults\\venv\\lib\\site-packages (from ipywidgets==8.1.5->-r requirements.txt (line 5)) (3.0.13)\n",
      "Requirement already satisfied: mpmath<1.4,>=1.1.0 in c:\\users\\dara\\documents\\github\\drug-interaction-prediction-for-older-adults\\venv\\lib\\site-packages (from sympy==1.13.1->torch==2.6.0->-r requirements.txt (line 4)) (1.3.0)\n",
      "Requirement already satisfied: colorama in c:\\users\\dara\\documents\\github\\drug-interaction-prediction-for-older-adults\\venv\\lib\\site-packages (from ipython>=6.1.0->ipywidgets==8.1.5->-r requirements.txt (line 5)) (0.4.6)\n",
      "Requirement already satisfied: decorator in c:\\users\\dara\\documents\\github\\drug-interaction-prediction-for-older-adults\\venv\\lib\\site-packages (from ipython>=6.1.0->ipywidgets==8.1.5->-r requirements.txt (line 5)) (5.2.1)\n",
      "Requirement already satisfied: ipython-pygments-lexers in c:\\users\\dara\\documents\\github\\drug-interaction-prediction-for-older-adults\\venv\\lib\\site-packages (from ipython>=6.1.0->ipywidgets==8.1.5->-r requirements.txt (line 5)) (1.1.1)\n",
      "Requirement already satisfied: jedi>=0.16 in c:\\users\\dara\\documents\\github\\drug-interaction-prediction-for-older-adults\\venv\\lib\\site-packages (from ipython>=6.1.0->ipywidgets==8.1.5->-r requirements.txt (line 5)) (0.19.2)\n",
      "Requirement already satisfied: matplotlib-inline in c:\\users\\dara\\documents\\github\\drug-interaction-prediction-for-older-adults\\venv\\lib\\site-packages (from ipython>=6.1.0->ipywidgets==8.1.5->-r requirements.txt (line 5)) (0.1.7)\n",
      "Requirement already satisfied: prompt_toolkit<3.1.0,>=3.0.41 in c:\\users\\dara\\documents\\github\\drug-interaction-prediction-for-older-adults\\venv\\lib\\site-packages (from ipython>=6.1.0->ipywidgets==8.1.5->-r requirements.txt (line 5)) (3.0.50)\n",
      "Requirement already satisfied: pygments>=2.4.0 in c:\\users\\dara\\documents\\github\\drug-interaction-prediction-for-older-adults\\venv\\lib\\site-packages (from ipython>=6.1.0->ipywidgets==8.1.5->-r requirements.txt (line 5)) (2.19.1)\n",
      "Requirement already satisfied: stack_data in c:\\users\\dara\\documents\\github\\drug-interaction-prediction-for-older-adults\\venv\\lib\\site-packages (from ipython>=6.1.0->ipywidgets==8.1.5->-r requirements.txt (line 5)) (0.6.3)\n",
      "Requirement already satisfied: six>=1.5 in c:\\users\\dara\\documents\\github\\drug-interaction-prediction-for-older-adults\\venv\\lib\\site-packages (from python-dateutil>=2.8.2->pandas==2.2.3->-r requirements.txt (line 1)) (1.17.0)\n",
      "Requirement already satisfied: MarkupSafe>=2.0 in c:\\users\\dara\\documents\\github\\drug-interaction-prediction-for-older-adults\\venv\\lib\\site-packages (from jinja2->torch==2.6.0->-r requirements.txt (line 4)) (3.0.2)\n",
      "Requirement already satisfied: parso<0.9.0,>=0.8.4 in c:\\users\\dara\\documents\\github\\drug-interaction-prediction-for-older-adults\\venv\\lib\\site-packages (from jedi>=0.16->ipython>=6.1.0->ipywidgets==8.1.5->-r requirements.txt (line 5)) (0.8.4)\n",
      "Requirement already satisfied: wcwidth in c:\\users\\dara\\documents\\github\\drug-interaction-prediction-for-older-adults\\venv\\lib\\site-packages (from prompt_toolkit<3.1.0,>=3.0.41->ipython>=6.1.0->ipywidgets==8.1.5->-r requirements.txt (line 5)) (0.2.13)\n",
      "Requirement already satisfied: executing>=1.2.0 in c:\\users\\dara\\documents\\github\\drug-interaction-prediction-for-older-adults\\venv\\lib\\site-packages (from stack_data->ipython>=6.1.0->ipywidgets==8.1.5->-r requirements.txt (line 5)) (2.2.0)\n",
      "Requirement already satisfied: asttokens>=2.1.0 in c:\\users\\dara\\documents\\github\\drug-interaction-prediction-for-older-adults\\venv\\lib\\site-packages (from stack_data->ipython>=6.1.0->ipywidgets==8.1.5->-r requirements.txt (line 5)) (3.0.0)\n",
      "Requirement already satisfied: pure-eval in c:\\users\\dara\\documents\\github\\drug-interaction-prediction-for-older-adults\\venv\\lib\\site-packages (from stack_data->ipython>=6.1.0->ipywidgets==8.1.5->-r requirements.txt (line 5)) (0.2.3)\n",
      "Note: you may need to restart the kernel to use updated packages.\n"
     ]
    },
    {
     "name": "stderr",
     "output_type": "stream",
     "text": [
      "\n",
      "[notice] A new release of pip is available: 24.3.1 -> 25.0.1\n",
      "[notice] To update, run: python.exe -m pip install --upgrade pip\n"
     ]
    }
   ],
   "source": [
    "%pip install -r requirements.txt\n",
    "\n",
    "import os\n",
    "\n",
    "from src.preprocessing import DataPreprocessor\n",
    "from src.model import Model, NeuralNetwork, MultiOutputNeuralNetwork\n",
    "from src.gui import AnalysisGUI"
   ]
  },
  {
   "cell_type": "code",
   "execution_count": 7,
   "metadata": {},
   "outputs": [],
   "source": [
    "# Load training and testing datasets\n",
    "dataset = DataPreprocessor(\n",
    "    filepaths=os.listdir(\"data\"),\n",
    "    join_on_column_names=['Case ID', 'Suspect Product Active Ingredients', 'Reason for Use', 'Reactions', 'Serious', 'Outcomes', 'Sex', 'Patient Age', 'Patient Weight']\n",
    ")\n",
    "\n",
    "dataset.explode_column(\"Suspect Product Active Ingredients\", \";\")\n",
    "dataset.get_dummies(column_names=['Suspect Product Active Ingredients'], prefix=['Product'], sep='_')\n",
    "\n",
    "medications = [col for col in dataset.data.columns if col.startswith(\"Product_\")]\n",
    "age_range = (65, 101)    # found in dataset\n",
    "weight_range = (40, 186) # found in dataset"
   ]
  },
  {
   "cell_type": "code",
   "execution_count": 20,
   "metadata": {},
   "outputs": [
    {
     "name": "stdout",
     "output_type": "stream",
     "text": [
      "<src.model.Model object at 0x000002035135A090>\n",
      "<src.model.Model object at 0x00000203199B09B0>\n"
     ]
    }
   ],
   "source": [
    "# Loading models\n",
    "serious_model  = Model()\n",
    "reaction_model = Model()\n",
    "serious_model.load_model(\"serious_model.pth\", weights=False)\n",
    "print(serious_model)\n",
    "reaction_model.load_model(\"reaction_model.pth\", weights=False)\n",
    "print(reaction_model)"
   ]
  },
  {
   "cell_type": "code",
   "execution_count": 21,
   "metadata": {},
   "outputs": [
    {
     "data": {
      "application/vnd.jupyter.widget-view+json": {
       "model_id": "f88cf921941a4b4f9bf205b79942db46",
       "version_major": 2,
       "version_minor": 0
      },
      "text/plain": [
       "VBox(children=(HBox(children=(VBox(children=(Dropdown(description='Gender:', layout=Layout(margin='10px 0'), o…"
      ]
     },
     "metadata": {},
     "output_type": "display_data"
    }
   ],
   "source": [
    "# Show GUI\n",
    "gui = AnalysisGUI(\n",
    "    serious_model=serious_model,\n",
    "    reaction_model=reaction_model,\n",
    "    age_range=age_range,\n",
    "    weight_range=weight_range,\n",
    "    medications=medications\n",
    ")\n"
   ]
  }
 ],
 "metadata": {
  "kernelspec": {
   "display_name": "venv",
   "language": "python",
   "name": "python3"
  },
  "language_info": {
   "codemirror_mode": {
    "name": "ipython",
    "version": 3
   },
   "file_extension": ".py",
   "mimetype": "text/x-python",
   "name": "python",
   "nbconvert_exporter": "python",
   "pygments_lexer": "ipython3",
   "version": "3.12.9"
  }
 },
 "nbformat": 4,
 "nbformat_minor": 2
}
