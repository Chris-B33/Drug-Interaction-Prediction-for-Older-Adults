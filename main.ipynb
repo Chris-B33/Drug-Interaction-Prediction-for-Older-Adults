{
 "cells": [
  {
   "cell_type": "code",
   "execution_count": null,
   "metadata": {},
   "outputs": [],
   "source": [
    "%load_ext autoreload\n",
    "%autoreload 2"
   ]
  },
  {
   "cell_type": "code",
   "execution_count": null,
   "metadata": {},
   "outputs": [],
   "source": [
    "!pip install -r requirements.txt\n",
    "from src.preprocessing import DataPreprocessor\n",
    "from src.model import Model\n",
    "from src.gui import *"
   ]
  },
  {
   "cell_type": "code",
   "execution_count": null,
   "metadata": {},
   "outputs": [],
   "source": [
    "# Load training and testing datasets\n",
    "dataset = DataPreprocessor(\n",
    "    filepath=\"data/Line Listing(dxjZy).xlsx\",\n",
    "    column_names=['Case ID', 'Suspect Product Active Ingredients', 'Serious', 'Sex', 'Patient Age', 'Patient Weight']\n",
    ")\n",
    "dataset.explode_column(\"Suspect Product Active Ingredients\", \";\")\n",
    "\n",
    "print(\"Value Counts:\")\n",
    "print(dataset.get_value_counts(\"Serious\"))\n",
    "\n",
    "print(\"\\nData Types:\")\n",
    "print(dataset.get_dataframe().dtypes)\n",
    "\n",
    "dataset.get_dummies([\"Suspect Product Active Ingredients\"])\n",
    "dataset.data.groupby(\"Case ID\").max().reset_index()\n",
    "dataset.drop_columns([\"Case ID\"])\n",
    "\n",
    "dataset.ensure_numeric_column(\"Patient Age\", decimal=False)\n",
    "\n",
    "dataset.convert_nulls(\"Patient Weight\", nulls=[\"Not Specified\"], output=\"0 KG\")\n",
    "dataset.ensure_numeric_column(\"Patient Weight\")\n",
    "\n",
    "dataset.encode_column(\"Sex\")\n",
    "dataset.encode_column(\"Serious\")\n",
    "\n",
    "dataset.drop_all_nulls()\n",
    "\n",
    "print(\"\\nNew Value Counts:\")\n",
    "print(dataset.get_value_counts(\"Serious\"))\n",
    "\n",
    "x_train, x_test, y_train, y_test = dataset.get_standardised_train_test_split(\n",
    "    dataset.data.columns, \n",
    "    y=\"Serious\", \n",
    "    test_size=0.2, \n",
    "    random_state=42\n",
    ")"
   ]
  },
  {
   "cell_type": "code",
   "execution_count": null,
   "metadata": {},
   "outputs": [],
   "source": [
    "# Running model\n",
    "input_dim = len(x_train[0])\n",
    "model = Model(input_dim)\n",
    "model.train_model(x_train, y_train)\n",
    "model.evaluate_model(x_test, y_test)"
   ]
  }
 ],
 "metadata": {
  "kernelspec": {
   "display_name": "Python 3",
   "language": "python",
   "name": "python3"
  },
  "language_info": {
   "codemirror_mode": {
    "name": "ipython",
    "version": 3
   },
   "file_extension": ".py",
   "mimetype": "text/x-python",
   "name": "python",
   "nbconvert_exporter": "python",
   "pygments_lexer": "ipython3",
   "version": "3.9.7"
  }
 },
 "nbformat": 4,
 "nbformat_minor": 2
}
