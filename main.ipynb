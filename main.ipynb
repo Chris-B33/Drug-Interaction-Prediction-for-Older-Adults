{
 "cells": [
  {
   "cell_type": "code",
   "execution_count": 180,
   "metadata": {},
   "outputs": [
    {
     "name": "stdout",
     "output_type": "stream",
     "text": [
      "The autoreload extension is already loaded. To reload it, use:\n",
      "  %reload_ext autoreload\n"
     ]
    }
   ],
   "source": [
    "%load_ext autoreload\n",
    "%autoreload 2"
   ]
  },
  {
   "cell_type": "code",
   "execution_count": 181,
   "metadata": {},
   "outputs": [
    {
     "name": "stdout",
     "output_type": "stream",
     "text": [
      "Requirement already satisfied: pandas==2.2.3 in c:\\users\\csbro\\appdata\\local\\programs\\python\\python39\\lib\\site-packages (from -r requirements.txt (line 1)) (2.2.3)\n",
      "Requirement already satisfied: openpyxl==3.1.5 in c:\\users\\csbro\\appdata\\local\\programs\\python\\python39\\lib\\site-packages (from -r requirements.txt (line 2)) (3.1.5)\n",
      "Requirement already satisfied: sklearn==0.0 in c:\\users\\csbro\\appdata\\local\\programs\\python\\python39\\lib\\site-packages (from -r requirements.txt (line 3)) (0.0)\n",
      "Requirement already satisfied: torch==2.6.0 in c:\\users\\csbro\\appdata\\local\\programs\\python\\python39\\lib\\site-packages (from -r requirements.txt (line 4)) (2.6.0)\n",
      "Requirement already satisfied: ipywidgets==8.1.5 in c:\\users\\csbro\\appdata\\local\\programs\\python\\python39\\lib\\site-packages (from -r requirements.txt (line 5)) (8.1.5)\n",
      "Requirement already satisfied: tzdata>=2022.7 in c:\\users\\csbro\\appdata\\local\\programs\\python\\python39\\lib\\site-packages (from pandas==2.2.3->-r requirements.txt (line 1)) (2025.1)\n",
      "Requirement already satisfied: numpy>=1.22.4 in c:\\users\\csbro\\appdata\\local\\programs\\python\\python39\\lib\\site-packages (from pandas==2.2.3->-r requirements.txt (line 1)) (2.0.2)\n",
      "Requirement already satisfied: pytz>=2020.1 in c:\\users\\csbro\\appdata\\local\\programs\\python\\python39\\lib\\site-packages (from pandas==2.2.3->-r requirements.txt (line 1)) (2025.1)\n",
      "Requirement already satisfied: python-dateutil>=2.8.2 in c:\\users\\csbro\\appdata\\roaming\\python\\python39\\site-packages (from pandas==2.2.3->-r requirements.txt (line 1)) (2.9.0.post0)\n",
      "Requirement already satisfied: et-xmlfile in c:\\users\\csbro\\appdata\\local\\programs\\python\\python39\\lib\\site-packages (from openpyxl==3.1.5->-r requirements.txt (line 2)) (2.0.0)\n",
      "Requirement already satisfied: scikit-learn in c:\\users\\csbro\\appdata\\local\\programs\\python\\python39\\lib\\site-packages (from sklearn==0.0->-r requirements.txt (line 3)) (1.6.1)\n",
      "Requirement already satisfied: filelock in c:\\users\\csbro\\appdata\\local\\programs\\python\\python39\\lib\\site-packages (from torch==2.6.0->-r requirements.txt (line 4)) (3.18.0)\n",
      "Requirement already satisfied: sympy==1.13.1 in c:\\users\\csbro\\appdata\\local\\programs\\python\\python39\\lib\\site-packages (from torch==2.6.0->-r requirements.txt (line 4)) (1.13.1)\n",
      "Requirement already satisfied: jinja2 in c:\\users\\csbro\\appdata\\local\\programs\\python\\python39\\lib\\site-packages (from torch==2.6.0->-r requirements.txt (line 4)) (3.1.6)\n",
      "Requirement already satisfied: networkx in c:\\users\\csbro\\appdata\\local\\programs\\python\\python39\\lib\\site-packages (from torch==2.6.0->-r requirements.txt (line 4)) (3.2.1)\n",
      "Requirement already satisfied: typing-extensions>=4.10.0 in c:\\users\\csbro\\appdata\\local\\programs\\python\\python39\\lib\\site-packages (from torch==2.6.0->-r requirements.txt (line 4)) (4.12.2)\n",
      "Requirement already satisfied: fsspec in c:\\users\\csbro\\appdata\\local\\programs\\python\\python39\\lib\\site-packages (from torch==2.6.0->-r requirements.txt (line 4)) (2025.3.0)\n",
      "Requirement already satisfied: widgetsnbextension~=4.0.12 in c:\\users\\csbro\\appdata\\local\\programs\\python\\python39\\lib\\site-packages (from ipywidgets==8.1.5->-r requirements.txt (line 5)) (4.0.13)\n",
      "Requirement already satisfied: traitlets>=4.3.1 in c:\\users\\csbro\\appdata\\roaming\\python\\python39\\site-packages (from ipywidgets==8.1.5->-r requirements.txt (line 5)) (5.14.3)\n",
      "Requirement already satisfied: jupyterlab-widgets~=3.0.12 in c:\\users\\csbro\\appdata\\local\\programs\\python\\python39\\lib\\site-packages (from ipywidgets==8.1.5->-r requirements.txt (line 5)) (3.0.13)\n",
      "Requirement already satisfied: comm>=0.1.3 in c:\\users\\csbro\\appdata\\roaming\\python\\python39\\site-packages (from ipywidgets==8.1.5->-r requirements.txt (line 5)) (0.2.2)\n",
      "Requirement already satisfied: ipython>=6.1.0 in c:\\users\\csbro\\appdata\\roaming\\python\\python39\\site-packages (from ipywidgets==8.1.5->-r requirements.txt (line 5)) (8.18.1)\n",
      "Requirement already satisfied: mpmath<1.4,>=1.1.0 in c:\\users\\csbro\\appdata\\local\\programs\\python\\python39\\lib\\site-packages (from sympy==1.13.1->torch==2.6.0->-r requirements.txt (line 4)) (1.3.0)\n",
      "Requirement already satisfied: pygments>=2.4.0 in c:\\users\\csbro\\appdata\\roaming\\python\\python39\\site-packages (from ipython>=6.1.0->ipywidgets==8.1.5->-r requirements.txt (line 5)) (2.19.1)\n",
      "Requirement already satisfied: stack-data in c:\\users\\csbro\\appdata\\roaming\\python\\python39\\site-packages (from ipython>=6.1.0->ipywidgets==8.1.5->-r requirements.txt (line 5)) (0.6.3)\n",
      "Requirement already satisfied: decorator in c:\\users\\csbro\\appdata\\roaming\\python\\python39\\site-packages (from ipython>=6.1.0->ipywidgets==8.1.5->-r requirements.txt (line 5)) (5.2.1)\n",
      "Requirement already satisfied: prompt-toolkit<3.1.0,>=3.0.41 in c:\\users\\csbro\\appdata\\roaming\\python\\python39\\site-packages (from ipython>=6.1.0->ipywidgets==8.1.5->-r requirements.txt (line 5)) (3.0.50)\n",
      "Requirement already satisfied: matplotlib-inline in c:\\users\\csbro\\appdata\\roaming\\python\\python39\\site-packages (from ipython>=6.1.0->ipywidgets==8.1.5->-r requirements.txt (line 5)) (0.1.7)\n",
      "Requirement already satisfied: exceptiongroup in c:\\users\\csbro\\appdata\\roaming\\python\\python39\\site-packages (from ipython>=6.1.0->ipywidgets==8.1.5->-r requirements.txt (line 5)) (1.2.2)\n",
      "Requirement already satisfied: colorama in c:\\users\\csbro\\appdata\\roaming\\python\\python39\\site-packages (from ipython>=6.1.0->ipywidgets==8.1.5->-r requirements.txt (line 5)) (0.4.6)\n",
      "Requirement already satisfied: jedi>=0.16 in c:\\users\\csbro\\appdata\\roaming\\python\\python39\\site-packages (from ipython>=6.1.0->ipywidgets==8.1.5->-r requirements.txt (line 5)) (0.19.2)\n",
      "Requirement already satisfied: parso<0.9.0,>=0.8.4 in c:\\users\\csbro\\appdata\\roaming\\python\\python39\\site-packages (from jedi>=0.16->ipython>=6.1.0->ipywidgets==8.1.5->-r requirements.txt (line 5)) (0.8.4)\n",
      "Requirement already satisfied: wcwidth in c:\\users\\csbro\\appdata\\roaming\\python\\python39\\site-packages (from prompt-toolkit<3.1.0,>=3.0.41->ipython>=6.1.0->ipywidgets==8.1.5->-r requirements.txt (line 5)) (0.2.13)\n",
      "Requirement already satisfied: six>=1.5 in c:\\users\\csbro\\appdata\\roaming\\python\\python39\\site-packages (from python-dateutil>=2.8.2->pandas==2.2.3->-r requirements.txt (line 1)) (1.17.0)\n",
      "Requirement already satisfied: MarkupSafe>=2.0 in c:\\users\\csbro\\appdata\\local\\programs\\python\\python39\\lib\\site-packages (from jinja2->torch==2.6.0->-r requirements.txt (line 4)) (3.0.2)\n",
      "Requirement already satisfied: scipy>=1.6.0 in c:\\users\\csbro\\appdata\\local\\programs\\python\\python39\\lib\\site-packages (from scikit-learn->sklearn==0.0->-r requirements.txt (line 3)) (1.13.1)\n",
      "Requirement already satisfied: threadpoolctl>=3.1.0 in c:\\users\\csbro\\appdata\\local\\programs\\python\\python39\\lib\\site-packages (from scikit-learn->sklearn==0.0->-r requirements.txt (line 3)) (3.6.0)\n",
      "Requirement already satisfied: joblib>=1.2.0 in c:\\users\\csbro\\appdata\\local\\programs\\python\\python39\\lib\\site-packages (from scikit-learn->sklearn==0.0->-r requirements.txt (line 3)) (1.4.2)\n",
      "Requirement already satisfied: executing>=1.2.0 in c:\\users\\csbro\\appdata\\roaming\\python\\python39\\site-packages (from stack-data->ipython>=6.1.0->ipywidgets==8.1.5->-r requirements.txt (line 5)) (2.2.0)\n",
      "Requirement already satisfied: asttokens>=2.1.0 in c:\\users\\csbro\\appdata\\roaming\\python\\python39\\site-packages (from stack-data->ipython>=6.1.0->ipywidgets==8.1.5->-r requirements.txt (line 5)) (3.0.0)\n",
      "Requirement already satisfied: pure-eval in c:\\users\\csbro\\appdata\\roaming\\python\\python39\\site-packages (from stack-data->ipython>=6.1.0->ipywidgets==8.1.5->-r requirements.txt (line 5)) (0.2.3)\n"
     ]
    },
    {
     "name": "stderr",
     "output_type": "stream",
     "text": [
      "WARNING: You are using pip version 21.2.3; however, version 25.0.1 is available.\n",
      "You should consider upgrading via the 'C:\\Users\\csbro\\AppData\\Local\\Programs\\Python\\Python39\\python.exe -m pip install --upgrade pip' command.\n"
     ]
    }
   ],
   "source": [
    "!pip install -r requirements.txt\n",
    "\n",
    "from src.preprocessing import DataPreprocessor\n",
    "from src.model import Model, NeuralNetwork, MultiOutputNeuralNetwork\n",
    "from src.gui import AnalysisGUI\n",
    "\n",
    "import torch\n",
    "torch.serialization.add_safe_globals([NeuralNetwork, MultiOutputNeuralNetwork])"
   ]
  },
  {
   "cell_type": "code",
   "execution_count": 182,
   "metadata": {},
   "outputs": [
    {
     "name": "stdout",
     "output_type": "stream",
     "text": [
      "Value Counts:\n",
      "Serious\n",
      "Serious        21935\n",
      "Non-Serious    10340\n",
      "Name: count, dtype: int64\n",
      "\n",
      "Data Types:\n",
      "Case ID                                int64\n",
      "Suspect Product Active Ingredients    object\n",
      "Serious                               object\n",
      "Sex                                   object\n",
      "Patient Age                           object\n",
      "Patient Weight                        object\n",
      "dtype: object\n",
      "\n",
      "New Value Counts:\n",
      "Serious\n",
      "1    21935\n",
      "0    10340\n",
      "Name: count, dtype: int64\n",
      "\n",
      "Dataset Head:\n",
      "    Case ID  Serious  Sex  Patient Age  Patient Weight  .Alpha.-Lipoic Acid  \\\n",
      "0  24795443        1    1         73.0               0                False   \n",
      "1  24795442        1    0         76.0               0                False   \n",
      "2  24795440        1    0         67.0               0                False   \n",
      "3  24792897        0    0         86.0               0                False   \n",
      "4  24773331        1    1         65.0               0                False   \n",
      "\n",
      "   .Alpha.-Tocopherol Acetate  Abaloparatide  Abiraterone Acetate  Acarbose  \\\n",
      "0                       False          False                False     False   \n",
      "1                       False          False                False     False   \n",
      "2                       False          False                False     False   \n",
      "3                       False          False                False     False   \n",
      "4                       False          False                False     False   \n",
      "\n",
      "   ...  Vitamins  Voglibose  Warfarin  Warfarin Sodium  Xipamide  \\\n",
      "0  ...     False      False     False            False     False   \n",
      "1  ...     False      False     False            False     False   \n",
      "2  ...     False      False     False            False     False   \n",
      "3  ...     False      False     False            False     False   \n",
      "4  ...     False      False     False            False     False   \n",
      "\n",
      "   Zinc Sulfate  Ziprasidone  Zoledronic Acid  Zolpidem Tartrate  Zopiclone  \n",
      "0         False        False            False              False      False  \n",
      "1         False        False            False              False      False  \n",
      "2         False        False            False              False      False  \n",
      "3         False        False            False              False      False  \n",
      "4         False        False            False              False      False  \n",
      "\n",
      "[5 rows x 821 columns]\n"
     ]
    }
   ],
   "source": [
    "# Load training and testing datasets\n",
    "dataset = DataPreprocessor(\n",
    "    filepath=\"data/Line Listing(dxjZy) (5).xlsx\",\n",
    "    column_names=['Case ID', 'Suspect Product Active Ingredients', 'Serious', 'Sex', 'Patient Age', 'Patient Weight']\n",
    ")\n",
    "dataset.explode_column(\"Suspect Product Active Ingredients\", \";\")\n",
    "medications = dataset.data[\"Suspect Product Active Ingredients\"] # SAVED FOR LATER MENUS IN GUI\n",
    "\n",
    "print(\"Value Counts:\")\n",
    "print(dataset.get_value_counts(\"Serious\"))\n",
    "\n",
    "print(\"\\nData Types:\")\n",
    "print(dataset.get_dataframe().dtypes)\n",
    "\n",
    "dataset.get_dummies([\"Suspect Product Active Ingredients\"])\n",
    "dataset.data.groupby(\"Case ID\").max().reset_index()\n",
    "dataset.drop_columns([\"Case ID\"])\n",
    "\n",
    "dataset.convert_nulls(\"Patient Age\", nulls=[\"Not Specified\"], output=\"0 YR\")\n",
    "dataset.ensure_numeric_column(\"Patient Age\", decimal=True)\n",
    "\n",
    "dataset.convert_nulls(\"Patient Weight\", nulls=[\"Not Specified\"], output=\"0 KG\")\n",
    "dataset.ensure_numeric_column(\"Patient Weight\")\n",
    "\n",
    "dataset.encode_column(\"Sex\")\n",
    "dataset.encode_column(\"Serious\")\n",
    "\n",
    "dataset.drop_all_nulls()\n",
    "\n",
    "print(\"\\nNew Value Counts:\")\n",
    "print(dataset.get_value_counts(\"Serious\"))\n",
    "\n",
    "print(\"\\nDataset Head:\")\n",
    "print(dataset.get_dataframe().head())\n",
    "\n",
    "x_train, x_test, y_train, y_test = dataset.get_standardised_train_test_split(\n",
    "    dataset.data.columns, \n",
    "    y=\"Serious\", \n",
    "    test_size=0.2, \n",
    "    random_state=42\n",
    ")"
   ]
  },
  {
   "cell_type": "code",
   "execution_count": null,
   "metadata": {},
   "outputs": [],
   "source": [
    "# Loading models\n",
    "input_dim = len(x_train[0])\n",
    "serious_model  = Model(input_dim).load_model(\"serious_model.pth\", weights=False)\n",
    "reaction_model = Model(input_dim).load_model(\"reaction_model.pth\", weights=False)\n",
    "\n",
    "print(serious_model)"
   ]
  },
  {
   "cell_type": "code",
   "execution_count": 184,
   "metadata": {},
   "outputs": [
    {
     "data": {
      "application/vnd.jupyter.widget-view+json": {
       "model_id": "2d4d2736f16a49919fc15e2a0eaf6780",
       "version_major": 2,
       "version_minor": 0
      },
      "text/plain": [
       "VBox(children=(HBox(children=(VBox(children=(Dropdown(description='Gender:', layout=Layout(padding='10px'), op…"
      ]
     },
     "metadata": {},
     "output_type": "display_data"
    },
    {
     "ename": "TraitError",
     "evalue": "The 'value' trait of a Label instance expected a unicode string, not the NoneType None.",
     "output_type": "error",
     "traceback": [
      "\u001b[1;31m---------------------------------------------------------------------------\u001b[0m",
      "\u001b[1;31mTraitError\u001b[0m                                Traceback (most recent call last)",
      "File \u001b[1;32mc:\\Users\\csbro\\OneDrive - University of Limerick\\Year 3\\CS4136 - Topics in AI\\Drug-Interaction-Prediction-for-Older-Adults\\src\\gui.py:53\u001b[0m, in \u001b[0;36mAnalysisGUI.on_predict_button_click\u001b[1;34m(self, b)\u001b[0m\n\u001b[0;32m     51\u001b[0m \u001b[38;5;28;01mdef\u001b[39;00m\u001b[38;5;250m \u001b[39m\u001b[38;5;21mon_predict_button_click\u001b[39m(\u001b[38;5;28mself\u001b[39m, b) \u001b[38;5;241m-\u001b[39m\u001b[38;5;241m>\u001b[39m \u001b[38;5;28;01mNone\u001b[39;00m:\n\u001b[0;32m     52\u001b[0m     \u001b[38;5;66;03m# Make prediction\u001b[39;00m\n\u001b[1;32m---> 53\u001b[0m     \u001b[38;5;28;43mself\u001b[39;49m\u001b[38;5;241;43m.\u001b[39;49m\u001b[43moutput\u001b[49m\u001b[38;5;241;43m.\u001b[39;49m\u001b[43mvalue\u001b[49m \u001b[38;5;241m=\u001b[39m \u001b[38;5;28mself\u001b[39m\u001b[38;5;241m.\u001b[39mserious_model\u001b[38;5;66;03m#self.serious_model.make_prediction([]) + self.reaction_model.make_prediction([])\u001b[39;00m\n\u001b[0;32m     54\u001b[0m     \u001b[38;5;28;01mpass\u001b[39;00m\n",
      "File \u001b[1;32m~\\AppData\\Roaming\\Python\\Python39\\site-packages\\traitlets\\traitlets.py:716\u001b[0m, in \u001b[0;36mTraitType.__set__\u001b[1;34m(self, obj, value)\u001b[0m\n\u001b[0;32m    714\u001b[0m \u001b[38;5;28;01mif\u001b[39;00m \u001b[38;5;28mself\u001b[39m\u001b[38;5;241m.\u001b[39mread_only:\n\u001b[0;32m    715\u001b[0m     \u001b[38;5;28;01mraise\u001b[39;00m TraitError(\u001b[38;5;124m'\u001b[39m\u001b[38;5;124mThe \u001b[39m\u001b[38;5;124m\"\u001b[39m\u001b[38;5;132;01m%s\u001b[39;00m\u001b[38;5;124m\"\u001b[39m\u001b[38;5;124m trait is read-only.\u001b[39m\u001b[38;5;124m'\u001b[39m \u001b[38;5;241m%\u001b[39m \u001b[38;5;28mself\u001b[39m\u001b[38;5;241m.\u001b[39mname)\n\u001b[1;32m--> 716\u001b[0m \u001b[38;5;28;43mself\u001b[39;49m\u001b[38;5;241;43m.\u001b[39;49m\u001b[43mset\u001b[49m\u001b[43m(\u001b[49m\u001b[43mobj\u001b[49m\u001b[43m,\u001b[49m\u001b[43m \u001b[49m\u001b[43mvalue\u001b[49m\u001b[43m)\u001b[49m\n",
      "File \u001b[1;32m~\\AppData\\Roaming\\Python\\Python39\\site-packages\\traitlets\\traitlets.py:690\u001b[0m, in \u001b[0;36mTraitType.set\u001b[1;34m(self, obj, value)\u001b[0m\n\u001b[0;32m    689\u001b[0m \u001b[38;5;28;01mdef\u001b[39;00m\u001b[38;5;250m \u001b[39m\u001b[38;5;21mset\u001b[39m(\u001b[38;5;28mself\u001b[39m, obj: HasTraits, value: S) \u001b[38;5;241m-\u001b[39m\u001b[38;5;241m>\u001b[39m \u001b[38;5;28;01mNone\u001b[39;00m:\n\u001b[1;32m--> 690\u001b[0m     new_value \u001b[38;5;241m=\u001b[39m \u001b[38;5;28;43mself\u001b[39;49m\u001b[38;5;241;43m.\u001b[39;49m\u001b[43m_validate\u001b[49m\u001b[43m(\u001b[49m\u001b[43mobj\u001b[49m\u001b[43m,\u001b[49m\u001b[43m \u001b[49m\u001b[43mvalue\u001b[49m\u001b[43m)\u001b[49m\n\u001b[0;32m    691\u001b[0m     \u001b[38;5;28;01massert\u001b[39;00m \u001b[38;5;28mself\u001b[39m\u001b[38;5;241m.\u001b[39mname \u001b[38;5;129;01mis\u001b[39;00m \u001b[38;5;129;01mnot\u001b[39;00m \u001b[38;5;28;01mNone\u001b[39;00m\n\u001b[0;32m    692\u001b[0m     \u001b[38;5;28;01mtry\u001b[39;00m:\n",
      "File \u001b[1;32m~\\AppData\\Roaming\\Python\\Python39\\site-packages\\traitlets\\traitlets.py:722\u001b[0m, in \u001b[0;36mTraitType._validate\u001b[1;34m(self, obj, value)\u001b[0m\n\u001b[0;32m    720\u001b[0m     \u001b[38;5;28;01mreturn\u001b[39;00m value\n\u001b[0;32m    721\u001b[0m \u001b[38;5;28;01mif\u001b[39;00m \u001b[38;5;28mhasattr\u001b[39m(\u001b[38;5;28mself\u001b[39m, \u001b[38;5;124m\"\u001b[39m\u001b[38;5;124mvalidate\u001b[39m\u001b[38;5;124m\"\u001b[39m):\n\u001b[1;32m--> 722\u001b[0m     value \u001b[38;5;241m=\u001b[39m \u001b[38;5;28;43mself\u001b[39;49m\u001b[38;5;241;43m.\u001b[39;49m\u001b[43mvalidate\u001b[49m\u001b[43m(\u001b[49m\u001b[43mobj\u001b[49m\u001b[43m,\u001b[49m\u001b[43m \u001b[49m\u001b[43mvalue\u001b[49m\u001b[43m)\u001b[49m\n\u001b[0;32m    723\u001b[0m \u001b[38;5;28;01mif\u001b[39;00m obj\u001b[38;5;241m.\u001b[39m_cross_validation_lock \u001b[38;5;129;01mis\u001b[39;00m \u001b[38;5;28;01mFalse\u001b[39;00m:\n\u001b[0;32m    724\u001b[0m     value \u001b[38;5;241m=\u001b[39m \u001b[38;5;28mself\u001b[39m\u001b[38;5;241m.\u001b[39m_cross_validate(obj, value)\n",
      "File \u001b[1;32m~\\AppData\\Roaming\\Python\\Python39\\site-packages\\traitlets\\traitlets.py:2945\u001b[0m, in \u001b[0;36mUnicode.validate\u001b[1;34m(self, obj, value)\u001b[0m\n\u001b[0;32m   2943\u001b[0m         msg \u001b[38;5;241m=\u001b[39m \u001b[38;5;124m\"\u001b[39m\u001b[38;5;124mCould not decode \u001b[39m\u001b[38;5;132;01m{!r}\u001b[39;00m\u001b[38;5;124m for unicode trait \u001b[39m\u001b[38;5;124m'\u001b[39m\u001b[38;5;132;01m{}\u001b[39;00m\u001b[38;5;124m'\u001b[39m\u001b[38;5;124m of \u001b[39m\u001b[38;5;132;01m{}\u001b[39;00m\u001b[38;5;124m instance.\u001b[39m\u001b[38;5;124m\"\u001b[39m\n\u001b[0;32m   2944\u001b[0m         \u001b[38;5;28;01mraise\u001b[39;00m TraitError(msg\u001b[38;5;241m.\u001b[39mformat(value, \u001b[38;5;28mself\u001b[39m\u001b[38;5;241m.\u001b[39mname, class_of(obj))) \u001b[38;5;28;01mfrom\u001b[39;00m\u001b[38;5;250m \u001b[39m\u001b[38;5;21;01me\u001b[39;00m\n\u001b[1;32m-> 2945\u001b[0m \u001b[38;5;28;43mself\u001b[39;49m\u001b[38;5;241;43m.\u001b[39;49m\u001b[43merror\u001b[49m\u001b[43m(\u001b[49m\u001b[43mobj\u001b[49m\u001b[43m,\u001b[49m\u001b[43m \u001b[49m\u001b[43mvalue\u001b[49m\u001b[43m)\u001b[49m\n",
      "File \u001b[1;32m~\\AppData\\Roaming\\Python\\Python39\\site-packages\\traitlets\\traitlets.py:831\u001b[0m, in \u001b[0;36mTraitType.error\u001b[1;34m(self, obj, value, error, info)\u001b[0m\n\u001b[0;32m    825\u001b[0m \u001b[38;5;28;01melse\u001b[39;00m:\n\u001b[0;32m    826\u001b[0m     e \u001b[38;5;241m=\u001b[39m \u001b[38;5;124m\"\u001b[39m\u001b[38;5;124mThe \u001b[39m\u001b[38;5;124m'\u001b[39m\u001b[38;5;132;01m{}\u001b[39;00m\u001b[38;5;124m'\u001b[39m\u001b[38;5;124m trait expected \u001b[39m\u001b[38;5;132;01m{}\u001b[39;00m\u001b[38;5;124m, not \u001b[39m\u001b[38;5;132;01m{}\u001b[39;00m\u001b[38;5;124m.\u001b[39m\u001b[38;5;124m\"\u001b[39m\u001b[38;5;241m.\u001b[39mformat(\n\u001b[0;32m    827\u001b[0m         \u001b[38;5;28mself\u001b[39m\u001b[38;5;241m.\u001b[39mname,\n\u001b[0;32m    828\u001b[0m         info \u001b[38;5;129;01mor\u001b[39;00m \u001b[38;5;28mself\u001b[39m\u001b[38;5;241m.\u001b[39minfo(),\n\u001b[0;32m    829\u001b[0m         describe(\u001b[38;5;124m\"\u001b[39m\u001b[38;5;124mthe\u001b[39m\u001b[38;5;124m\"\u001b[39m, value),\n\u001b[0;32m    830\u001b[0m     )\n\u001b[1;32m--> 831\u001b[0m \u001b[38;5;28;01mraise\u001b[39;00m TraitError(e)\n",
      "\u001b[1;31mTraitError\u001b[0m: The 'value' trait of a Label instance expected a unicode string, not the NoneType None."
     ]
    }
   ],
   "source": [
    "# Show GUI\n",
    "medications = medications.unique()\n",
    "\n",
    "gui = AnalysisGUI(\n",
    "    serious_model=serious_model,\n",
    "    reaction_model=reaction_model,\n",
    "    medications=medications\n",
    ")"
   ]
  }
 ],
 "metadata": {
  "kernelspec": {
   "display_name": "Python 3",
   "language": "python",
   "name": "python3"
  },
  "language_info": {
   "codemirror_mode": {
    "name": "ipython",
    "version": 3
   },
   "file_extension": ".py",
   "mimetype": "text/x-python",
   "name": "python",
   "nbconvert_exporter": "python",
   "pygments_lexer": "ipython3",
   "version": "3.9.7"
  }
 },
 "nbformat": 4,
 "nbformat_minor": 2
}
