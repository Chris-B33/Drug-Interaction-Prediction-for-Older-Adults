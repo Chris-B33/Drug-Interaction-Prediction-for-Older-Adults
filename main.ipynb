{
 "cells": [
  {
   "cell_type": "code",
   "execution_count": 10,
   "metadata": {},
   "outputs": [
    {
     "name": "stdout",
     "output_type": "stream",
     "text": [
      "The autoreload extension is already loaded. To reload it, use:\n",
      "  %reload_ext autoreload\n"
     ]
    }
   ],
   "source": [
    "%load_ext autoreload\n",
    "%autoreload 2"
   ]
  },
  {
   "cell_type": "code",
   "execution_count": 11,
   "metadata": {},
   "outputs": [
    {
     "name": "stdout",
     "output_type": "stream",
     "text": [
      "Requirement already satisfied: pandas==2.2.3 in c:\\users\\csbro\\appdata\\local\\programs\\python\\python39\\lib\\site-packages (from -r requirements.txt (line 1)) (2.2.3)\n",
      "Requirement already satisfied: openpyxl==3.1.5 in c:\\users\\csbro\\appdata\\local\\programs\\python\\python39\\lib\\site-packages (from -r requirements.txt (line 2)) (3.1.5)\n"
     ]
    },
    {
     "name": "stderr",
     "output_type": "stream",
     "text": [
      "ERROR: Could not find a version that satisfies the requirement sklearn==1.6.1 (from versions: 0.0, 0.0.post1, 0.0.post2, 0.0.post4, 0.0.post5, 0.0.post7, 0.0.post9, 0.0.post10, 0.0.post11, 0.0.post12)\n",
      "ERROR: No matching distribution found for sklearn==1.6.1\n",
      "WARNING: You are using pip version 21.2.3; however, version 25.0.1 is available.\n",
      "You should consider upgrading via the 'C:\\Users\\csbro\\AppData\\Local\\Programs\\Python\\Python39\\python.exe -m pip install --upgrade pip' command.\n"
     ]
    }
   ],
   "source": [
    "!pip install -r requirements.txt\n",
    "import os\n",
    "\n",
    "from src.preprocessing import DataPreprocessor\n",
    "from src.model import Model\n",
    "from src.gui import *"
   ]
  },
  {
   "cell_type": "code",
   "execution_count": null,
   "metadata": {},
   "outputs": [],
   "source": [
    "# Load training and testing datasets\n",
    "dataset = DataPreprocessor(\n",
    "    filepath=\"data/Line Listing(dxjZy).xlsx\",\n",
    "    column_names=['Case ID', 'Suspect Product Active Ingredients', 'Serious', 'Sex', 'Patient Age', 'Patient Weight']\n",
    ")\n",
    "dataset.explode_column(\"Suspect Product Active Ingredients\", \";\")\n",
    "\n",
    "print(\"Value Counts:\")\n",
    "print(dataset.get_value_counts(\"Serious\"))\n",
    "\n",
    "print(\"\\nData Types:\")\n",
    "print(dataset.get_dataframe().dtypes)\n",
    "\n",
    "dataset.get_dummies([\"Suspect Product Active Ingredients\"])\n",
    "dataset.data.groupby(\"Case ID\").max().reset_index()\n",
    "dataset.drop_columns([\"Case ID\"])\n",
    "\n",
    "dataset.ensure_numeric_column(\"Patient Age\", decimal=False)\n",
    "\n",
    "dataset.convert_nulls(\"Patient Weight\", nulls=[\"Not Specified\"], output=\"0 KG\")\n",
    "dataset.ensure_numeric_column(\"Patient Weight\")\n",
    "\n",
    "dataset.encode_column(\"Sex\")\n",
    "dataset.encode_column(\"Serious\")\n",
    "\n",
    "dataset.drop_all_nulls()\n",
    "\n",
    "print(\"\\nNew Value Counts:\")\n",
    "print(dataset.get_value_counts(\"Serious\"))\n",
    "\n",
    "print(\"\\nDataset Head:\")\n",
    "print(dataset.get_dataframe().head())\n",
    "\n",
    "x_train, x_test, y_train, y_test = dataset.get_standardised_train_test_split(\n",
    "    dataset.data.columns, \n",
    "    y=\"Serious\", \n",
    "    test_size=0.2, \n",
    "    random_state=42\n",
    ")"
   ]
  },
  {
   "cell_type": "code",
   "execution_count": 13,
   "metadata": {},
   "outputs": [
    {
     "name": "stdout",
     "output_type": "stream",
     "text": [
      "Evaluation Loss: 0.01966577209532261\n"
     ]
    },
    {
     "name": "stderr",
     "output_type": "stream",
     "text": [
      "c:\\Users\\csbro\\AppData\\Local\\Programs\\Python\\Python39\\lib\\site-packages\\torch\\nn\\modules\\loss.py:610: UserWarning: Using a target size (torch.Size([654])) that is different to the input size (torch.Size([654, 1])). This will likely lead to incorrect results due to broadcasting. Please ensure they have the same size.\n",
      "  return F.mse_loss(input, target, reduction=self.reduction)\n"
     ]
    }
   ],
   "source": [
    "# Creating model\n",
    "model_name = \"default\"\n",
    "\n",
    "input_dim = len(x_train[0])\n",
    "model = Model(input_dim)\n",
    "if os.path.exists(f\"models/{model_name}.pt\"):\n",
    "    model.load_model(model_name)\n",
    "else:\n",
    "    model.train_model(x_train, y_train)\n",
    "    model.save_model(model_name)\n",
    "\n",
    "model.evaluate_model(x_test, y_test)"
   ]
  },
  {
   "cell_type": "code",
   "execution_count": 14,
   "metadata": {},
   "outputs": [],
   "source": [
    "# Running GUI"
   ]
  }
 ],
 "metadata": {
  "kernelspec": {
   "display_name": "Python 3",
   "language": "python",
   "name": "python3"
  },
  "language_info": {
   "codemirror_mode": {
    "name": "ipython",
    "version": 3
   },
   "file_extension": ".py",
   "mimetype": "text/x-python",
   "name": "python",
   "nbconvert_exporter": "python",
   "pygments_lexer": "ipython3",
   "version": "3.9.7"
  }
 },
 "nbformat": 4,
 "nbformat_minor": 2
}
