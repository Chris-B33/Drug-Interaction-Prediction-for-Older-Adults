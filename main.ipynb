{
 "cells": [
  {
   "cell_type": "code",
   "execution_count": null,
   "metadata": {},
   "outputs": [],
   "source": [
    "%load_ext autoreload\n",
    "%autoreload 2"
   ]
  },
  {
   "cell_type": "code",
   "execution_count": null,
   "metadata": {},
   "outputs": [],
   "source": [
    "%pip install -r requirements.txt\n",
    "\n",
    "import os\n",
    "\n",
    "from src.preprocessing import DataPreprocessor\n",
    "from src.model import Model, NeuralNetwork, MultiOutputNeuralNetwork\n",
    "from src.gui import AnalysisGUI"
   ]
  },
  {
   "cell_type": "code",
   "execution_count": null,
   "metadata": {},
   "outputs": [],
   "source": [
    "# Load training and testing datasets\n",
    "dataset = DataPreprocessor(\n",
    "    filepaths=os.listdir(\"data\"),\n",
    "    join_on_column_names=['Case ID', 'Suspect Product Active Ingredients', 'Reason for Use', 'Reactions', 'Serious', 'Outcomes', 'Sex', 'Patient Age', 'Patient Weight']\n",
    ")\n",
    "\n",
    "dataset.explode_column(\"Suspect Product Active Ingredients\", \";\")\n",
    "dataset.get_dummies(column_names=['Suspect Product Active Ingredients'], prefix=['Product'], sep='_')\n",
    "\n",
    "medications = [col for col in dataset.data.columns if col.startswith(\"Product_\")]\n",
    "age_range = (65, 101)    # found in dataset\n",
    "weight_range = (40, 186) # found in dataset"
   ]
  },
  {
   "cell_type": "code",
   "execution_count": null,
   "metadata": {},
   "outputs": [],
   "source": [
    "# Loading models\n",
    "serious_model  = Model()\n",
    "reaction_model = Model()\n",
    "serious_model.load_model(\"serious_model.pth\", weights=False)\n",
    "reaction_model.load_model(\"reaction_model.pth\", weights=False)"
   ]
  },
  {
   "cell_type": "code",
   "execution_count": null,
   "metadata": {},
   "outputs": [],
   "source": [
    "# Show GUI\n",
    "gui = AnalysisGUI(\n",
    "    serious_model=serious_model,\n",
    "    reaction_model=reaction_model,\n",
    "    age_range=age_range,\n",
    "    weight_range=weight_range,\n",
    "    medications=medications\n",
    ")"
   ]
  }
 ],
 "metadata": {
  "kernelspec": {
   "display_name": "Python 3",
   "language": "python",
   "name": "python3"
  },
  "language_info": {
   "codemirror_mode": {
    "name": "ipython",
    "version": 3
   },
   "file_extension": ".py",
   "mimetype": "text/x-python",
   "name": "python",
   "nbconvert_exporter": "python",
   "pygments_lexer": "ipython3",
   "version": "3.9.7"
  }
 },
 "nbformat": 4,
 "nbformat_minor": 2
}
