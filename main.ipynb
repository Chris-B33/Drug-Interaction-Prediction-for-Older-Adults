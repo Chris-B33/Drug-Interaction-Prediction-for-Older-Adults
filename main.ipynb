{
 "cells": [
  {
   "cell_type": "code",
   "execution_count": 56,
   "metadata": {},
   "outputs": [
    {
     "name": "stdout",
     "output_type": "stream",
     "text": [
      "The autoreload extension is already loaded. To reload it, use:\n",
      "  %reload_ext autoreload\n"
     ]
    }
   ],
   "source": [
    "%load_ext autoreload\n",
    "%autoreload 2"
   ]
  },
  {
   "cell_type": "code",
   "execution_count": 57,
   "metadata": {},
   "outputs": [
    {
     "name": "stdout",
     "output_type": "stream",
     "text": [
      "Requirement already satisfied: pandas==2.2.3 in c:\\users\\csbro\\appdata\\local\\programs\\python\\python39\\lib\\site-packages (from -r requirements.txt (line 1)) (2.2.3)\n",
      "Requirement already satisfied: openpyxl==3.1.5 in c:\\users\\csbro\\appdata\\local\\programs\\python\\python39\\lib\\site-packages (from -r requirements.txt (line 2)) (3.1.5)\n",
      "Requirement already satisfied: sklearn==0.0 in c:\\users\\csbro\\appdata\\local\\programs\\python\\python39\\lib\\site-packages (from -r requirements.txt (line 3)) (0.0)\n",
      "Requirement already satisfied: torch==2.6.0 in c:\\users\\csbro\\appdata\\local\\programs\\python\\python39\\lib\\site-packages (from -r requirements.txt (line 4)) (2.6.0)\n",
      "Requirement already satisfied: ipywidgets==8.1.5 in c:\\users\\csbro\\appdata\\local\\programs\\python\\python39\\lib\\site-packages (from -r requirements.txt (line 5)) (8.1.5)\n",
      "Requirement already satisfied: python-dateutil>=2.8.2 in c:\\users\\csbro\\appdata\\roaming\\python\\python39\\site-packages (from pandas==2.2.3->-r requirements.txt (line 1)) (2.9.0.post0)\n",
      "Requirement already satisfied: pytz>=2020.1 in c:\\users\\csbro\\appdata\\local\\programs\\python\\python39\\lib\\site-packages (from pandas==2.2.3->-r requirements.txt (line 1)) (2025.1)\n",
      "Requirement already satisfied: numpy>=1.22.4 in c:\\users\\csbro\\appdata\\local\\programs\\python\\python39\\lib\\site-packages (from pandas==2.2.3->-r requirements.txt (line 1)) (2.0.2)\n",
      "Requirement already satisfied: tzdata>=2022.7 in c:\\users\\csbro\\appdata\\local\\programs\\python\\python39\\lib\\site-packages (from pandas==2.2.3->-r requirements.txt (line 1)) (2025.1)\n",
      "Requirement already satisfied: et-xmlfile in c:\\users\\csbro\\appdata\\local\\programs\\python\\python39\\lib\\site-packages (from openpyxl==3.1.5->-r requirements.txt (line 2)) (2.0.0)\n",
      "Requirement already satisfied: scikit-learn in c:\\users\\csbro\\appdata\\local\\programs\\python\\python39\\lib\\site-packages (from sklearn==0.0->-r requirements.txt (line 3)) (1.6.1)\n",
      "Requirement already satisfied: typing-extensions>=4.10.0 in c:\\users\\csbro\\appdata\\local\\programs\\python\\python39\\lib\\site-packages (from torch==2.6.0->-r requirements.txt (line 4)) (4.12.2)\n",
      "Requirement already satisfied: jinja2 in c:\\users\\csbro\\appdata\\local\\programs\\python\\python39\\lib\\site-packages (from torch==2.6.0->-r requirements.txt (line 4)) (3.1.6)\n",
      "Requirement already satisfied: filelock in c:\\users\\csbro\\appdata\\local\\programs\\python\\python39\\lib\\site-packages (from torch==2.6.0->-r requirements.txt (line 4)) (3.18.0)\n",
      "Requirement already satisfied: fsspec in c:\\users\\csbro\\appdata\\local\\programs\\python\\python39\\lib\\site-packages (from torch==2.6.0->-r requirements.txt (line 4)) (2025.3.0)\n",
      "Requirement already satisfied: sympy==1.13.1 in c:\\users\\csbro\\appdata\\local\\programs\\python\\python39\\lib\\site-packages (from torch==2.6.0->-r requirements.txt (line 4)) (1.13.1)\n",
      "Requirement already satisfied: networkx in c:\\users\\csbro\\appdata\\local\\programs\\python\\python39\\lib\\site-packages (from torch==2.6.0->-r requirements.txt (line 4)) (3.2.1)\n",
      "Requirement already satisfied: jupyterlab-widgets~=3.0.12 in c:\\users\\csbro\\appdata\\local\\programs\\python\\python39\\lib\\site-packages (from ipywidgets==8.1.5->-r requirements.txt (line 5)) (3.0.13)\n",
      "Requirement already satisfied: widgetsnbextension~=4.0.12 in c:\\users\\csbro\\appdata\\local\\programs\\python\\python39\\lib\\site-packages (from ipywidgets==8.1.5->-r requirements.txt (line 5)) (4.0.13)\n",
      "Requirement already satisfied: ipython>=6.1.0 in c:\\users\\csbro\\appdata\\roaming\\python\\python39\\site-packages (from ipywidgets==8.1.5->-r requirements.txt (line 5)) (8.18.1)\n",
      "Requirement already satisfied: comm>=0.1.3 in c:\\users\\csbro\\appdata\\roaming\\python\\python39\\site-packages (from ipywidgets==8.1.5->-r requirements.txt (line 5)) (0.2.2)\n",
      "Requirement already satisfied: traitlets>=4.3.1 in c:\\users\\csbro\\appdata\\roaming\\python\\python39\\site-packages (from ipywidgets==8.1.5->-r requirements.txt (line 5)) (5.14.3)\n",
      "Requirement already satisfied: mpmath<1.4,>=1.1.0 in c:\\users\\csbro\\appdata\\local\\programs\\python\\python39\\lib\\site-packages (from sympy==1.13.1->torch==2.6.0->-r requirements.txt (line 4)) (1.3.0)\n",
      "Requirement already satisfied: stack-data in c:\\users\\csbro\\appdata\\roaming\\python\\python39\\site-packages (from ipython>=6.1.0->ipywidgets==8.1.5->-r requirements.txt (line 5)) (0.6.3)\n",
      "Requirement already satisfied: exceptiongroup in c:\\users\\csbro\\appdata\\roaming\\python\\python39\\site-packages (from ipython>=6.1.0->ipywidgets==8.1.5->-r requirements.txt (line 5)) (1.2.2)\n",
      "Requirement already satisfied: pygments>=2.4.0 in c:\\users\\csbro\\appdata\\roaming\\python\\python39\\site-packages (from ipython>=6.1.0->ipywidgets==8.1.5->-r requirements.txt (line 5)) (2.19.1)\n",
      "Requirement already satisfied: prompt-toolkit<3.1.0,>=3.0.41 in c:\\users\\csbro\\appdata\\roaming\\python\\python39\\site-packages (from ipython>=6.1.0->ipywidgets==8.1.5->-r requirements.txt (line 5)) (3.0.50)\n",
      "Requirement already satisfied: matplotlib-inline in c:\\users\\csbro\\appdata\\roaming\\python\\python39\\site-packages (from ipython>=6.1.0->ipywidgets==8.1.5->-r requirements.txt (line 5)) (0.1.7)\n",
      "Requirement already satisfied: decorator in c:\\users\\csbro\\appdata\\roaming\\python\\python39\\site-packages (from ipython>=6.1.0->ipywidgets==8.1.5->-r requirements.txt (line 5)) (5.2.1)\n",
      "Requirement already satisfied: colorama in c:\\users\\csbro\\appdata\\roaming\\python\\python39\\site-packages (from ipython>=6.1.0->ipywidgets==8.1.5->-r requirements.txt (line 5)) (0.4.6)\n",
      "Requirement already satisfied: jedi>=0.16 in c:\\users\\csbro\\appdata\\roaming\\python\\python39\\site-packages (from ipython>=6.1.0->ipywidgets==8.1.5->-r requirements.txt (line 5)) (0.19.2)\n",
      "Requirement already satisfied: parso<0.9.0,>=0.8.4 in c:\\users\\csbro\\appdata\\roaming\\python\\python39\\site-packages (from jedi>=0.16->ipython>=6.1.0->ipywidgets==8.1.5->-r requirements.txt (line 5)) (0.8.4)\n",
      "Requirement already satisfied: wcwidth in c:\\users\\csbro\\appdata\\roaming\\python\\python39\\site-packages (from prompt-toolkit<3.1.0,>=3.0.41->ipython>=6.1.0->ipywidgets==8.1.5->-r requirements.txt (line 5)) (0.2.13)\n",
      "Requirement already satisfied: six>=1.5 in c:\\users\\csbro\\appdata\\roaming\\python\\python39\\site-packages (from python-dateutil>=2.8.2->pandas==2.2.3->-r requirements.txt (line 1)) (1.17.0)\n",
      "Requirement already satisfied: MarkupSafe>=2.0 in c:\\users\\csbro\\appdata\\local\\programs\\python\\python39\\lib\\site-packages (from jinja2->torch==2.6.0->-r requirements.txt (line 4)) (3.0.2)\n",
      "Requirement already satisfied: threadpoolctl>=3.1.0 in c:\\users\\csbro\\appdata\\local\\programs\\python\\python39\\lib\\site-packages (from scikit-learn->sklearn==0.0->-r requirements.txt (line 3)) (3.6.0)\n",
      "Requirement already satisfied: joblib>=1.2.0 in c:\\users\\csbro\\appdata\\local\\programs\\python\\python39\\lib\\site-packages (from scikit-learn->sklearn==0.0->-r requirements.txt (line 3)) (1.4.2)\n",
      "Requirement already satisfied: scipy>=1.6.0 in c:\\users\\csbro\\appdata\\local\\programs\\python\\python39\\lib\\site-packages (from scikit-learn->sklearn==0.0->-r requirements.txt (line 3)) (1.13.1)\n",
      "Requirement already satisfied: pure-eval in c:\\users\\csbro\\appdata\\roaming\\python\\python39\\site-packages (from stack-data->ipython>=6.1.0->ipywidgets==8.1.5->-r requirements.txt (line 5)) (0.2.3)\n",
      "Requirement already satisfied: executing>=1.2.0 in c:\\users\\csbro\\appdata\\roaming\\python\\python39\\site-packages (from stack-data->ipython>=6.1.0->ipywidgets==8.1.5->-r requirements.txt (line 5)) (2.2.0)\n",
      "Requirement already satisfied: asttokens>=2.1.0 in c:\\users\\csbro\\appdata\\roaming\\python\\python39\\site-packages (from stack-data->ipython>=6.1.0->ipywidgets==8.1.5->-r requirements.txt (line 5)) (3.0.0)\n"
     ]
    },
    {
     "name": "stderr",
     "output_type": "stream",
     "text": [
      "WARNING: You are using pip version 21.2.3; however, version 25.0.1 is available.\n",
      "You should consider upgrading via the 'C:\\Users\\csbro\\AppData\\Local\\Programs\\Python\\Python39\\python.exe -m pip install --upgrade pip' command.\n"
     ]
    }
   ],
   "source": [
    "!pip install -r requirements.txt\n",
    "import os\n",
    "\n",
    "from src.preprocessing import DataPreprocessor\n",
    "from src.model import Model\n",
    "from src.gui import AnalysisGUI"
   ]
  },
  {
   "cell_type": "code",
   "execution_count": null,
   "metadata": {},
   "outputs": [
    {
     "name": "stdout",
     "output_type": "stream",
     "text": [
      "Value Counts:\n",
      "Serious\n",
      "Serious        3199\n",
      "Non-Serious      67\n",
      "Name: count, dtype: int64\n",
      "\n",
      "Data Types:\n",
      "Case ID                                int64\n",
      "Suspect Product Active Ingredients    object\n",
      "Serious                               object\n",
      "Sex                                   object\n",
      "Patient Age                           object\n",
      "Patient Weight                        object\n",
      "dtype: object\n",
      "\n",
      "New Value Counts:\n",
      "Serious\n",
      "1    3199\n",
      "0      67\n",
      "Name: count, dtype: int64\n",
      "\n",
      "Dataset Head:\n",
      "    Case ID  Serious  Sex  Patient Age  Patient Weight  .Alpha.-Tocopherol  \\\n",
      "0  24750965        1    1           75               0               False   \n",
      "0  24750965        1    1           75               0               False   \n",
      "1  24391183        1    0           73               0               False   \n",
      "1  24391183        1    0           73               0               False   \n",
      "1  24391183        1    0           73               0               False   \n",
      "\n",
      "   .Alpha.-Tocopherol Acetate, Dl-  .Alpha.-Tocopherol, Dl-  \\\n",
      "0                            False                    False   \n",
      "0                            False                    False   \n",
      "1                            False                    False   \n",
      "1                            False                    False   \n",
      "1                            False                    False   \n",
      "\n",
      "   .Alpha.-Tocopherol, Dl-\\Fish Oil  .Beta.-Carotene  ...  \\\n",
      "0                             False            False  ...   \n",
      "0                             False            False  ...   \n",
      "1                             False            False  ...   \n",
      "1                             False            False  ...   \n",
      "1                             False            False  ...   \n",
      "\n",
      "   Vitamin A Palmitate  Vitamin D Nos  Vitamins  Warfarin  Warfarin Potassium  \\\n",
      "0                False          False     False     False               False   \n",
      "0                False          False     False     False               False   \n",
      "1                False          False     False     False               False   \n",
      "1                False          False     False     False               False   \n",
      "1                False          False     False     False               False   \n",
      "\n",
      "   Warfarin Sodium  Xantofyl Palmitate  Xylometazoline  \\\n",
      "0            False               False           False   \n",
      "0            False               False           False   \n",
      "1            False               False           False   \n",
      "1            False               False           False   \n",
      "1            False               False           False   \n",
      "\n",
      "   Xylometazoline Hydrochloride   Zinc  \n",
      "0                         False  False  \n",
      "0                         False  False  \n",
      "1                         False  False  \n",
      "1                         False  False  \n",
      "1                         False  False  \n",
      "\n",
      "[5 rows x 394 columns]\n"
     ]
    }
   ],
   "source": [
    "# Load training and testing datasets\n",
    "dataset = DataPreprocessor(\n",
    "    filepath=\"data/Line Listing(dxjZy).xlsx\",\n",
    "    column_names=['Case ID', 'Suspect Product Active Ingredients', 'Serious', 'Sex', 'Patient Age', 'Patient Weight']\n",
    ")\n",
    "dataset.explode_column(\"Suspect Product Active Ingredients\", \";\")\n",
    "medications = dataset.data[\"Suspect Product Active Ingredients\"] # SAVED FOR LATER FOR MENUS IN GUI\n",
    "\n",
    "print(\"Value Counts:\")\n",
    "print(dataset.get_value_counts(\"Serious\"))\n",
    "\n",
    "print(\"\\nData Types:\")\n",
    "print(dataset.get_dataframe().dtypes)\n",
    "\n",
    "dataset.get_dummies([\"Suspect Product Active Ingredients\"])\n",
    "dataset.data.groupby(\"Case ID\").max().reset_index()\n",
    "dataset.drop_columns([\"Case ID\"])\n",
    "\n",
    "dataset.ensure_numeric_column(\"Patient Age\", decimal=False)\n",
    "\n",
    "dataset.convert_nulls(\"Patient Weight\", nulls=[\"Not Specified\"], output=\"0 KG\")\n",
    "dataset.ensure_numeric_column(\"Patient Weight\")\n",
    "\n",
    "dataset.encode_column(\"Sex\")\n",
    "dataset.encode_column(\"Serious\")\n",
    "\n",
    "dataset.drop_all_nulls()\n",
    "\n",
    "print(\"\\nNew Value Counts:\")\n",
    "print(dataset.get_value_counts(\"Serious\"))\n",
    "\n",
    "print(\"\\nDataset Head:\")\n",
    "print(dataset.get_dataframe().head())\n",
    "\n",
    "x_train, x_test, y_train, y_test = dataset.get_standardised_train_test_split(\n",
    "    dataset.data.columns, \n",
    "    y=\"Serious\", \n",
    "    test_size=0.2, \n",
    "    random_state=42\n",
    ")"
   ]
  },
  {
   "cell_type": "code",
   "execution_count": 59,
   "metadata": {},
   "outputs": [
    {
     "name": "stdout",
     "output_type": "stream",
     "text": [
      "Evaluation Loss: 0.01966577209532261\n"
     ]
    },
    {
     "name": "stderr",
     "output_type": "stream",
     "text": [
      "c:\\Users\\csbro\\AppData\\Local\\Programs\\Python\\Python39\\lib\\site-packages\\torch\\nn\\modules\\loss.py:610: UserWarning: Using a target size (torch.Size([654])) that is different to the input size (torch.Size([654, 1])). This will likely lead to incorrect results due to broadcasting. Please ensure they have the same size.\n",
      "  return F.mse_loss(input, target, reduction=self.reduction)\n"
     ]
    }
   ],
   "source": [
    "# Creating model\n",
    "model_name = \"default\"\n",
    "\n",
    "input_dim = len(x_train[0])\n",
    "analysis_model = Model(input_dim)\n",
    "if os.path.exists(f\"models/{model_name}.pt\"):\n",
    "    analysis_model.load_model(model_name)\n",
    "else:\n",
    "    analysis_model.train_model(x_train, y_train)\n",
    "    analysis_model.save_model(model_name)\n",
    "\n",
    "analysis_model.evaluate_model(x_test, y_test)"
   ]
  },
  {
   "cell_type": "code",
   "execution_count": 60,
   "metadata": {},
   "outputs": [
    {
     "data": {
      "application/vnd.jupyter.widget-view+json": {
       "model_id": "5b6b6749fb8842709b327edd4a5ed6ce",
       "version_major": 2,
       "version_minor": 0
      },
      "text/plain": [
       "VBox(children=(HBox(children=(VBox(children=(Dropdown(description='Gender:', layout=Layout(padding='10px'), op…"
      ]
     },
     "metadata": {},
     "output_type": "display_data"
    }
   ],
   "source": [
    "# Show GUI\n",
    "medications = medications.unique()\n",
    "\n",
    "allergies = []\n",
    "\n",
    "gui = AnalysisGUI(model=analysis_model, medications=medications, allergies=allergies)"
   ]
  }
 ],
 "metadata": {
  "kernelspec": {
   "display_name": "Python 3",
   "language": "python",
   "name": "python3"
  },
  "language_info": {
   "codemirror_mode": {
    "name": "ipython",
    "version": 3
   },
   "file_extension": ".py",
   "mimetype": "text/x-python",
   "name": "python",
   "nbconvert_exporter": "python",
   "pygments_lexer": "ipython3",
   "version": "3.9.7"
  }
 },
 "nbformat": 4,
 "nbformat_minor": 2
}
