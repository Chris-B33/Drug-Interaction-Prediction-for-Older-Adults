{
 "cells": [
  {
   "cell_type": "code",
   "execution_count": 13,
   "metadata": {},
   "outputs": [
    {
     "name": "stdout",
     "output_type": "stream",
     "text": [
      "The autoreload extension is already loaded. To reload it, use:\n",
      "  %reload_ext autoreload\n"
     ]
    }
   ],
   "source": [
    "%load_ext autoreload\n",
    "%autoreload 2"
   ]
  },
  {
   "cell_type": "code",
   "execution_count": 14,
   "metadata": {},
   "outputs": [
    {
     "name": "stdout",
     "output_type": "stream",
     "text": [
      "Requirement already satisfied: pandas==2.2.3 in c:\\users\\csbro\\appdata\\local\\programs\\python\\python39\\lib\\site-packages (from -r requirements.txt (line 1)) (2.2.3)\n",
      "Requirement already satisfied: openpyxl==3.1.5 in c:\\users\\csbro\\appdata\\local\\programs\\python\\python39\\lib\\site-packages (from -r requirements.txt (line 2)) (3.1.5)\n"
     ]
    },
    {
     "name": "stderr",
     "output_type": "stream",
     "text": [
      "ERROR: Could not find a version that satisfies the requirement sklearn==1.6.1 (from versions: 0.0, 0.0.post1, 0.0.post2, 0.0.post4, 0.0.post5, 0.0.post7, 0.0.post9, 0.0.post10, 0.0.post11, 0.0.post12)\n",
      "ERROR: No matching distribution found for sklearn==1.6.1\n",
      "WARNING: You are using pip version 21.2.3; however, version 25.0.1 is available.\n",
      "You should consider upgrading via the 'C:\\Users\\csbro\\AppData\\Local\\Programs\\Python\\Python39\\python.exe -m pip install --upgrade pip' command.\n"
     ]
    }
   ],
   "source": [
    "!pip install -r requirements.txt\n",
    "from src.preprocessing import DataPreprocessor\n",
    "from src.model import Model\n",
    "from src.gui import *"
   ]
  },
  {
   "cell_type": "code",
   "execution_count": null,
   "metadata": {},
   "outputs": [
    {
     "name": "stdout",
     "output_type": "stream",
     "text": [
      "Value Counts:\n",
      "Serious\n",
      "Serious        3199\n",
      "Non-Serious      67\n",
      "Name: count, dtype: int64\n",
      "\n",
      "Data Types:\n",
      "Case ID                                int64\n",
      "Suspect Product Active Ingredients    object\n",
      "Serious                               object\n",
      "Sex                                   object\n",
      "Patient Age                           object\n",
      "Patient Weight                        object\n",
      "dtype: object\n",
      "\n",
      "New Value Counts:\n",
      "Serious\n",
      "1    3199\n",
      "0      67\n",
      "Name: count, dtype: int64\n",
      "    Case ID  Serious  Sex  Patient Age  Patient Weight  .Alpha.-Tocopherol  \\\n",
      "0  24750965        1    1           75               0               False   \n",
      "0  24750965        1    1           75               0               False   \n",
      "1  24391183        1    0           73               0               False   \n",
      "1  24391183        1    0           73               0               False   \n",
      "1  24391183        1    0           73               0               False   \n",
      "\n",
      "   .Alpha.-Tocopherol Acetate, Dl-  .Alpha.-Tocopherol, Dl-  \\\n",
      "0                            False                    False   \n",
      "0                            False                    False   \n",
      "1                            False                    False   \n",
      "1                            False                    False   \n",
      "1                            False                    False   \n",
      "\n",
      "   .Alpha.-Tocopherol, Dl-\\Fish Oil  .Beta.-Carotene  ...  \\\n",
      "0                             False            False  ...   \n",
      "0                             False            False  ...   \n",
      "1                             False            False  ...   \n",
      "1                             False            False  ...   \n",
      "1                             False            False  ...   \n",
      "\n",
      "   Vitamin A Palmitate  Vitamin D Nos  Vitamins  Warfarin  Warfarin Potassium  \\\n",
      "0                False          False     False     False               False   \n",
      "0                False          False     False     False               False   \n",
      "1                False          False     False     False               False   \n",
      "1                False          False     False     False               False   \n",
      "1                False          False     False     False               False   \n",
      "\n",
      "   Warfarin Sodium  Xantofyl Palmitate  Xylometazoline  \\\n",
      "0            False               False           False   \n",
      "0            False               False           False   \n",
      "1            False               False           False   \n",
      "1            False               False           False   \n",
      "1            False               False           False   \n",
      "\n",
      "   Xylometazoline Hydrochloride   Zinc  \n",
      "0                         False  False  \n",
      "0                         False  False  \n",
      "1                         False  False  \n",
      "1                         False  False  \n",
      "1                         False  False  \n",
      "\n",
      "[5 rows x 394 columns]\n"
     ]
    }
   ],
   "source": [
    "# Load training and testing datasets\n",
    "dataset = DataPreprocessor(\n",
    "    filepath=\"data/Line Listing(dxjZy).xlsx\",\n",
    "    column_names=['Case ID', 'Suspect Product Active Ingredients', 'Serious', 'Sex', 'Patient Age', 'Patient Weight']\n",
    ")\n",
    "dataset.explode_column(\"Suspect Product Active Ingredients\", \";\")\n",
    "\n",
    "print(\"Value Counts:\")\n",
    "print(dataset.get_value_counts(\"Serious\"))\n",
    "\n",
    "print(\"\\nData Types:\")\n",
    "print(dataset.get_dataframe().dtypes)\n",
    "\n",
    "dataset.get_dummies([\"Suspect Product Active Ingredients\"])\n",
    "dataset.data.groupby(\"Case ID\").max().reset_index()\n",
    "dataset.drop_columns([\"Case ID\"])\n",
    "\n",
    "dataset.ensure_numeric_column(\"Patient Age\", decimal=False)\n",
    "\n",
    "dataset.convert_nulls(\"Patient Weight\", nulls=[\"Not Specified\"], output=\"0 KG\")\n",
    "dataset.ensure_numeric_column(\"Patient Weight\")\n",
    "\n",
    "dataset.encode_column(\"Sex\")\n",
    "dataset.encode_column(\"Serious\")\n",
    "\n",
    "dataset.drop_all_nulls()\n",
    "\n",
    "print(\"\\nNew Value Counts:\")\n",
    "print(dataset.get_value_counts(\"Serious\"))\n",
    "\n",
    "print(\"\\nDataset Head:\")\n",
    "print(dataset.get_dataframe().head())\n",
    "\n",
    "x_train, x_test, y_train, y_test = dataset.get_standardised_train_test_split(\n",
    "    dataset.data.columns, \n",
    "    y=\"Serious\", \n",
    "    test_size=0.2, \n",
    "    random_state=42\n",
    ")"
   ]
  },
  {
   "cell_type": "code",
   "execution_count": 16,
   "metadata": {},
   "outputs": [
    {
     "name": "stderr",
     "output_type": "stream",
     "text": [
      "c:\\Users\\csbro\\AppData\\Local\\Programs\\Python\\Python39\\lib\\site-packages\\torch\\nn\\modules\\loss.py:610: UserWarning: Using a target size (torch.Size([32])) that is different to the input size (torch.Size([32, 1])). This will likely lead to incorrect results due to broadcasting. Please ensure they have the same size.\n",
      "  return F.mse_loss(input, target, reduction=self.reduction)\n",
      "c:\\Users\\csbro\\AppData\\Local\\Programs\\Python\\Python39\\lib\\site-packages\\torch\\nn\\modules\\loss.py:610: UserWarning: Using a target size (torch.Size([20])) that is different to the input size (torch.Size([20, 1])). This will likely lead to incorrect results due to broadcasting. Please ensure they have the same size.\n",
      "  return F.mse_loss(input, target, reduction=self.reduction)\n"
     ]
    },
    {
     "name": "stdout",
     "output_type": "stream",
     "text": [
      "Epoch 1/50, Loss: 0.3529814733816992\n",
      "Epoch 2/50, Loss: 0.04888769319968116\n",
      "Epoch 3/50, Loss: 0.023824358433513423\n",
      "Epoch 4/50, Loss: 0.02150281560543368\n",
      "Epoch 5/50, Loss: 0.020844572054423822\n",
      "Epoch 6/50, Loss: 0.021197562659103934\n",
      "Epoch 7/50, Loss: 0.021021584908494997\n",
      "Epoch 8/50, Loss: 0.02139682893282109\n",
      "Epoch 9/50, Loss: 0.02109333717923685\n",
      "Epoch 10/50, Loss: 0.021767085413491104\n",
      "Epoch 11/50, Loss: 0.021516268851772154\n",
      "Epoch 12/50, Loss: 0.022445985628575905\n",
      "Epoch 13/50, Loss: 0.0216074303043126\n",
      "Epoch 14/50, Loss: 0.02129404672752305\n",
      "Epoch 15/50, Loss: 0.021229135334667772\n",
      "Epoch 16/50, Loss: 0.021350405773108188\n",
      "Epoch 17/50, Loss: 0.022306336138238448\n",
      "Epoch 18/50, Loss: 0.021853199928201075\n",
      "Epoch 19/50, Loss: 0.021520888029665845\n",
      "Epoch 20/50, Loss: 0.021763773560140667\n",
      "Epoch 21/50, Loss: 0.02127471598001515\n",
      "Epoch 22/50, Loss: 0.02179746439172205\n",
      "Epoch 23/50, Loss: 0.021557411882762296\n",
      "Epoch 24/50, Loss: 0.021497997305520652\n",
      "Epoch 25/50, Loss: 0.02191920065081099\n",
      "Epoch 26/50, Loss: 0.02185296468016487\n",
      "Epoch 27/50, Loss: 0.021999201453404456\n",
      "Epoch 28/50, Loss: 0.021951045721014053\n",
      "Epoch 29/50, Loss: 0.021540652081745153\n",
      "Epoch 30/50, Loss: 0.0215405294854086\n",
      "Epoch 31/50, Loss: 0.021035923780845026\n",
      "Epoch 32/50, Loss: 0.021615719999095832\n",
      "Epoch 33/50, Loss: 0.021658617251754237\n",
      "Epoch 34/50, Loss: 0.022208084381063378\n",
      "Epoch 35/50, Loss: 0.022171612844586644\n",
      "Epoch 36/50, Loss: 0.021830291045750152\n",
      "Epoch 37/50, Loss: 0.022008451337148096\n",
      "Epoch 38/50, Loss: 0.021582720728829594\n",
      "Epoch 39/50, Loss: 0.021435662262885628\n",
      "Epoch 40/50, Loss: 0.021716305896250825\n",
      "Epoch 41/50, Loss: 0.021577970701178943\n",
      "Epoch 42/50, Loss: 0.021434049190535983\n",
      "Epoch 43/50, Loss: 0.021358769702534874\n",
      "Epoch 44/50, Loss: 0.02131619211783201\n",
      "Epoch 45/50, Loss: 0.022039703457976872\n",
      "Epoch 46/50, Loss: 0.021335103666188376\n",
      "Epoch 47/50, Loss: 0.02128653634707273\n",
      "Epoch 48/50, Loss: 0.021234661625895546\n",
      "Epoch 49/50, Loss: 0.021440096404304068\n",
      "Epoch 50/50, Loss: 0.021680777351919946\n",
      "Evaluation Loss: 0.02137851156294346\n"
     ]
    },
    {
     "name": "stderr",
     "output_type": "stream",
     "text": [
      "c:\\Users\\csbro\\AppData\\Local\\Programs\\Python\\Python39\\lib\\site-packages\\torch\\nn\\modules\\loss.py:610: UserWarning: Using a target size (torch.Size([654])) that is different to the input size (torch.Size([654, 1])). This will likely lead to incorrect results due to broadcasting. Please ensure they have the same size.\n",
      "  return F.mse_loss(input, target, reduction=self.reduction)\n"
     ]
    }
   ],
   "source": [
    "# Running model\n",
    "input_dim = len(x_train[0])\n",
    "model = Model(input_dim)\n",
    "model.train_model(x_train, y_train)\n",
    "model.evaluate_model(x_test, y_test)"
   ]
  }
 ],
 "metadata": {
  "kernelspec": {
   "display_name": "Python 3",
   "language": "python",
   "name": "python3"
  },
  "language_info": {
   "codemirror_mode": {
    "name": "ipython",
    "version": 3
   },
   "file_extension": ".py",
   "mimetype": "text/x-python",
   "name": "python",
   "nbconvert_exporter": "python",
   "pygments_lexer": "ipython3",
   "version": "3.9.7"
  }
 },
 "nbformat": 4,
 "nbformat_minor": 2
}
